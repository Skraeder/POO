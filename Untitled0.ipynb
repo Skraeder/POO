{
  "nbformat": 4,
  "nbformat_minor": 0,
  "metadata": {
    "colab": {
      "provenance": []
    },
    "kernelspec": {
      "name": "python3",
      "display_name": "Python 3"
    },
    "language_info": {
      "name": "python"
    }
  },
  "cells": [
    {
      "cell_type": "code",
      "execution_count": 9,
      "metadata": {
        "id": "RjXj2dOkXa7L"
      },
      "outputs": [],
      "source": [
        "def Area(b,h): #Se crea una función de dos valores que son b=base y h=altura\n",
        "  a= b*h*0.5 #se crea la formula que nos dara el area del triangulo\n",
        "  return a #un return para que regrese el resultado\n",
        "def perimetro(l,b): #Se crea una función de dos valores que son b=base y l=lado\n",
        "    p=2*l+b #Se crea la formula que nos dara el perímetro\n",
        "    return p #return para que nos regrese el resultado"
      ]
    },
    {
      "cell_type": "code",
      "source": [
        "Area(5,4) #defino el h y b\n",
        "perimetro(7,9) #defino la b y l"
      ],
      "metadata": {
        "colab": {
          "base_uri": "https://localhost:8080/"
        },
        "id": "obtvZ1tGZ4AE",
        "outputId": "35dda8b7-c89b-47aa-adfa-74635e33de2a"
      },
      "execution_count": 11,
      "outputs": [
        {
          "output_type": "execute_result",
          "data": {
            "text/plain": [
              "23"
            ]
          },
          "metadata": {},
          "execution_count": 11
        }
      ]
    },
    {
      "cell_type": "code",
      "source": [
        "def tiponumero(n): # Defino cual va ser el tipo de num\n",
        "  num= n%2 #Formula para que nos regrese si el num es par o impar\n",
        "  return num"
      ],
      "metadata": {
        "id": "3ebbbNqzd7xV"
      },
      "execution_count": null,
      "outputs": []
    },
    {
      "cell_type": "code",
      "source": [
        "def num (n):\n",
        "  numpar= n%2\n",
        "  return numpar"
      ],
      "metadata": {
        "id": "bR38K348evMC"
      },
      "execution_count": 12,
      "outputs": []
    },
    {
      "cell_type": "code",
      "source": [
        "num(3)"
      ],
      "metadata": {
        "colab": {
          "base_uri": "https://localhost:8080/"
        },
        "id": "H4ZnkSb0f0fJ",
        "outputId": "80b3e8dc-9175-45bd-ed93-02c791b5cead"
      },
      "execution_count": 13,
      "outputs": [
        {
          "output_type": "execute_result",
          "data": {
            "text/plain": [
              "1"
            ]
          },
          "metadata": {},
          "execution_count": 13
        }
      ]
    },
    {
      "cell_type": "code",
      "source": [
        "n= 4\n",
        "if num(n)==0:\n",
        "  print (\"es par\")\n",
        "else:\n",
        "  print(\"es impar\")"
      ],
      "metadata": {
        "colab": {
          "base_uri": "https://localhost:8080/"
        },
        "id": "zIQ9puzbf2dI",
        "outputId": "a5129d4c-9cb8-4813-9fb3-37dee961113a"
      },
      "execution_count": 14,
      "outputs": [
        {
          "output_type": "stream",
          "name": "stdout",
          "text": [
            "es par\n"
          ]
        }
      ]
    },
    {
      "cell_type": "code",
      "source": [
        "n = int(input(\"ingresa tu numero\")) #\n",
        "L=[i for i in range(1,n) if n%i==0]\n",
        "if (sum(L)==n):\n",
        "  print(\"Es un numero perfecto\")\n",
        "else:\n",
        "  print(\"No es un numero perfecto\")"
      ],
      "metadata": {
        "colab": {
          "base_uri": "https://localhost:8080/"
        },
        "id": "Vk9GkGpUm9He",
        "outputId": "35706fb0-0f5d-4d16-ebb1-ed579232a7a7"
      },
      "execution_count": 19,
      "outputs": [
        {
          "output_type": "stream",
          "name": "stdout",
          "text": [
            "ingresa tu numero7\n",
            "No es un numero perfecto\n"
          ]
        }
      ]
    }
  ]
}