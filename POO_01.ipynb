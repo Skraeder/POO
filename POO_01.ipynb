{
  "nbformat": 4,
  "nbformat_minor": 0,
  "metadata": {
    "colab": {
      "provenance": []
    },
    "kernelspec": {
      "name": "python3",
      "display_name": "Python 3"
    },
    "language_info": {
      "name": "python"
    }
  },
  "cells": [
    {
      "cell_type": "markdown",
      "source": [
        "# Primeros Objetos\n",
        "1. Objetos\n",
        "2. Listas\n",
        "3. Conjuntos"
      ],
      "metadata": {
        "id": "8-wvkk8LlUTe"
      }
    },
    {
      "cell_type": "markdown",
      "source": [
        "En Python se puede realizar operaciones sobre objetos. Además, es útil para resolver un sistema de ecuaciones lineales.\n",
        "\n",
        "$$\n",
        "f(x,y)=\\begin{cases}\n",
        "x+2y &= 3\\\\\n",
        "2x+4y &= 6\n",
        "\\end{cases}\n",
        "$$"
      ],
      "metadata": {
        "id": "FvVQXMLTli_W"
      }
    },
    {
      "cell_type": "code",
      "source": [
        "print(\"Hola mundo!\")"
      ],
      "metadata": {
        "colab": {
          "base_uri": "https://localhost:8080/"
        },
        "id": "2yOlwgsHq868",
        "outputId": "1100ab29-866a-4ef8-a583-fd7828e3b99e"
      },
      "execution_count": 2,
      "outputs": [
        {
          "output_type": "stream",
          "name": "stdout",
          "text": [
            "Hola mundo!\n"
          ]
        }
      ]
    },
    {
      "cell_type": "code",
      "source": [
        "x = 3\n",
        "y= 5"
      ],
      "metadata": {
        "id": "yKj-xru1wqWI"
      },
      "execution_count": 4,
      "outputs": []
    },
    {
      "cell_type": "code",
      "source": [
        "print(x+y)\n",
        "print(x-y)\n",
        "print(x*y)\n",
        "print(x**y)\n",
        "print(x/y)\n",
        "print(x//y)\n",
        "print(x%y)\n"
      ],
      "metadata": {
        "colab": {
          "base_uri": "https://localhost:8080/"
        },
        "id": "uljFRwyirgWr",
        "outputId": "de3c4763-3232-450d-b5db-e90144d5167f"
      },
      "execution_count": 6,
      "outputs": [
        {
          "output_type": "stream",
          "name": "stdout",
          "text": [
            "8\n",
            "-2\n",
            "15\n",
            "243\n",
            "0.6\n",
            "0\n",
            "3\n"
          ]
        }
      ]
    }
  ]
}