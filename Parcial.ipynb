{
  "nbformat": 4,
  "nbformat_minor": 0,
  "metadata": {
    "colab": {
      "provenance": []
    },
    "kernelspec": {
      "name": "python3",
      "display_name": "Python 3"
    },
    "language_info": {
      "name": "python"
    }
  },
  "cells": [
    {
      "cell_type": "code",
      "source": [],
      "metadata": {
        "id": "CAsji0eZnpXG"
      },
      "execution_count": null,
      "outputs": []
    },
    {
      "cell_type": "markdown",
      "source": [
        "-Areas, perimetro de triangulos equilatero\n",
        "\n",
        "-Recibe una lista de 16 elementos, la transforme en una matriz de tamaño 4x4\n",
        "\n",
        "-Función que calcule el determinante (np.linalg.det(A))"
      ],
      "metadata": {
        "id": "3luLWVmOnma3"
      }
    },
    {
      "cell_type": "code",
      "source": [
        "import numpy as np\n",
        "# Creamos la clase madre que se llama Formulas\n",
        "class Formulas:\n",
        "    def area(self):\n",
        "        pass\n",
        "\n",
        "    def perimetro(self):\n",
        "        pass\n",
        "# Creamos la clase heredada de Formulas para calcular el area y perímetro\n",
        "class TrianguloEquilatero(Formulas):\n",
        "    def __init__(self, lado):\n",
        "        self.lado = lado\n",
        "\n",
        "    def area(self):\n",
        "        return (np.sqrt(3) / 4) * self.lado**2\n",
        "\n",
        "    def perimetro(self):\n",
        "        return 3 * self.lado\n",
        "\n",
        "# Ingresamos la longitud del lado del triángulo equilátero\n",
        "longitud_lado = float(input(\"Ingresa la longitud del lado del triángulo equilátero: \"))\n",
        "\n",
        "# Creamos una instancia de la clase TrianguloEquilatero\n",
        "triangulo = TrianguloEquilatero(longitud_lado)\n",
        "\n",
        "# Calculamos el area y el perimetro utilizando la clase\n",
        "area = triangulo.area()\n",
        "perimetro = triangulo.perimetro()\n",
        "\n",
        "# Resultados dados del codigo\n",
        "print(f\"Área del triángulo equilátero: {area}\")\n",
        "print(f\"Perímetro del triángulo equilátero: {perimetro}\")\n",
        "\n"
      ],
      "metadata": {
        "colab": {
          "base_uri": "https://localhost:8080/"
        },
        "id": "8KENXYaZtCN4",
        "outputId": "db851566-e425-4164-9b6a-16761ce85087"
      },
      "execution_count": 19,
      "outputs": [
        {
          "output_type": "stream",
          "name": "stdout",
          "text": [
            "Ingresa la longitud del lado del triángulo equilátero: 5\n",
            "Área del triángulo equilátero: 10.825317547305483\n",
            "Perímetro del triángulo equilátero: 15.0\n"
          ]
        }
      ]
    },
    {
      "cell_type": "code",
      "source": [
        "import numpy as np\n",
        "# Creamos la clase madre del codigo\n",
        "class TransformadorMatriz:\n",
        "    def lista_a_matriz(self, lista):\n",
        "        matriz = np.array(lista).reshape(4, 4)\n",
        "        return matriz\n",
        "\n",
        "# Creamos la clase heredada de TransformadorMatriz para calcular el determinante\n",
        "class CalculadorDeterminante(TransformadorMatriz):\n",
        "    def calcular_determinante(self, matriz):\n",
        "        return np.linalg.det(matriz)\n",
        "\n",
        "# Ingresamos la lista de 16 elementos\n",
        "lista_16_elementos = [1, 2, 3, 4, 5, 6, 7, 8, 9, 10, 11, 12, 13, 14, 15, 16]\n",
        "\n",
        "# Creamos una instancia de la clase que se llamara TransformadorMatriz\n",
        "transformador = TransformadorMatriz()\n",
        "\n",
        "# Transformamos la lista en una matriz 4x4 utilizando la clase\n",
        "matriz_resultante = transformador.lista_a_matriz(lista_16_elementos)\n",
        "\n",
        "# Mostramos la matriz resultante\n",
        "print(\"Matriz resultante:\")\n",
        "print(matriz_resultante)\n",
        "\n",
        "# Creamos una instancia de la clase heredada para calcular el determinante\n",
        "calculador_determinante = CalculadorDeterminante()\n",
        "\n",
        "# Calculamos el determinante utilizando la clase heredada\n",
        "determinante = calculador_determinante.calcular_determinante(matriz_resultante)\n",
        "\n",
        "# Resultado\n",
        "print(\"Determinante de la matriz:\")\n",
        "print(determinante)\n"
      ],
      "metadata": {
        "colab": {
          "base_uri": "https://localhost:8080/"
        },
        "id": "ZqK7MoXZuZdl",
        "outputId": "fa3eae8b-e0ea-47e6-d04b-80de586b80a4"
      },
      "execution_count": 18,
      "outputs": [
        {
          "output_type": "stream",
          "name": "stdout",
          "text": [
            "Matriz resultante:\n",
            "[[ 1  2  3  4]\n",
            " [ 5  6  7  8]\n",
            " [ 9 10 11 12]\n",
            " [13 14 15 16]]\n",
            "Determinante de la matriz:\n",
            "0.0\n"
          ]
        }
      ]
    },
    {
      "cell_type": "code",
      "source": [],
      "metadata": {
        "id": "Pj2nlk-htsxH"
      },
      "execution_count": null,
      "outputs": []
    }
  ]
}