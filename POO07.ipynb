{
  "nbformat": 4,
  "nbformat_minor": 0,
  "metadata": {
    "colab": {
      "provenance": []
    },
    "kernelspec": {
      "name": "python3",
      "display_name": "Python 3"
    },
    "language_info": {
      "name": "python"
    }
  },
  "cells": [
    {
      "cell_type": "code",
      "execution_count": 1,
      "metadata": {
        "id": "CYx3BOUQe16m"
      },
      "outputs": [],
      "source": [
        "class Persona():\n",
        "\n",
        "  def __init__(self):\n",
        "    print(\"creamos una clase madre\")\n",
        "\n",
        "  def adivina(self):\n",
        "    print(\"Hola, soy una persona\")\n",
        "\n",
        "  def gustos(self):\n",
        "    print(\"Me gusta la musica \")\n"
      ]
    },
    {
      "cell_type": "code",
      "source": [
        "persona = Persona()"
      ],
      "metadata": {
        "colab": {
          "base_uri": "https://localhost:8080/"
        },
        "id": "2jRDrU9NfcXZ",
        "outputId": "d709fdd0-60e6-4f45-eb0c-e6f593cf755f"
      },
      "execution_count": 2,
      "outputs": [
        {
          "output_type": "stream",
          "name": "stdout",
          "text": [
            "creamos una clase madre\n"
          ]
        }
      ]
    },
    {
      "cell_type": "code",
      "source": [
        "class Santiago(Persona):\n",
        "  def __int__(self):\n",
        "    Persona.__int__(self)\n",
        "    print(\"Creamos una clase heredada\")\n",
        "\n",
        "  def nombre(self):\n",
        "    print(\"Santiago\")\n",
        "\n",
        "  def idioma(self):\n",
        "    print(\"Español\")"
      ],
      "metadata": {
        "id": "94SQ739uff5Y"
      },
      "execution_count": 3,
      "outputs": []
    },
    {
      "cell_type": "code",
      "source": [
        "santiago = Santiago()"
      ],
      "metadata": {
        "colab": {
          "base_uri": "https://localhost:8080/"
        },
        "id": "1x9mBwi_k_zF",
        "outputId": "5eb139ff-17ef-4935-ecbb-4db1eea4fe08"
      },
      "execution_count": 4,
      "outputs": [
        {
          "output_type": "stream",
          "name": "stdout",
          "text": [
            "creamos una clase madre\n"
          ]
        }
      ]
    },
    {
      "cell_type": "code",
      "source": [
        "persona.adivina()"
      ],
      "metadata": {
        "colab": {
          "base_uri": "https://localhost:8080/"
        },
        "id": "H02yoFRAlEdr",
        "outputId": "110dd75c-3216-4b7f-e3df-c0231429abda"
      },
      "execution_count": 5,
      "outputs": [
        {
          "output_type": "stream",
          "name": "stdout",
          "text": [
            "Hola, soy una persona\n"
          ]
        }
      ]
    },
    {
      "cell_type": "code",
      "source": [
        "santiago.adivina()"
      ],
      "metadata": {
        "colab": {
          "base_uri": "https://localhost:8080/"
        },
        "id": "rOGkO3omlJFj",
        "outputId": "db80fb40-3953-4d36-db65-de944be0c726"
      },
      "execution_count": 6,
      "outputs": [
        {
          "output_type": "stream",
          "name": "stdout",
          "text": [
            "Hola, soy una persona\n"
          ]
        }
      ]
    },
    {
      "cell_type": "code",
      "source": [
        "santiago.idioma()"
      ],
      "metadata": {
        "colab": {
          "base_uri": "https://localhost:8080/"
        },
        "id": "BGHNAJQwlMbm",
        "outputId": "928abb0c-ec54-49ba-ab3c-0b9f1f9cf64d"
      },
      "execution_count": 7,
      "outputs": [
        {
          "output_type": "stream",
          "name": "stdout",
          "text": [
            "Español\n"
          ]
        }
      ]
    }
  ]
}